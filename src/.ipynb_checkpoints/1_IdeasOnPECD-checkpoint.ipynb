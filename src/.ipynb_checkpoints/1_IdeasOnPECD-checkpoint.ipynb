{
 "cells": [
  {
   "cell_type": "markdown",
   "id": "f2a97854",
   "metadata": {},
   "source": []
  },
  {
   "cell_type": "markdown",
   "id": "6848b27d",
   "metadata": {},
   "source": [
    "This is a exploration of the initial ideas on the Climate Change Metrics on the preliminary data of the PECDv4.0. "
   ]
  }
 ],
 "metadata": {
  "kernelspec": {
   "display_name": "Python 3 (ipykernel)",
   "language": "python",
   "name": "python3"
  },
  "language_info": {
   "codemirror_mode": {
    "name": "ipython",
    "version": 3
   },
   "file_extension": ".py",
   "mimetype": "text/x-python",
   "name": "python",
   "nbconvert_exporter": "python",
   "pygments_lexer": "ipython3",
   "version": "3.9.15"
  }
 },
 "nbformat": 4,
 "nbformat_minor": 5
}
